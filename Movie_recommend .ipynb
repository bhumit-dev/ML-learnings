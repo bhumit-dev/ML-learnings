{
 "cells": [
  {
   "cell_type": "markdown",
   "id": "709d3610-b35b-49e1-b54d-0f4987d446ce",
   "metadata": {
    "tags": []
   },
   "source": [
    "## Recommender System Project"
   ]
  },
  {
   "cell_type": "markdown",
   "id": "4b0fa205-e169-4944-a6f4-d7d2b4d6f8de",
   "metadata": {
    "tags": []
   },
   "source": [
    "Recommender System Project¶\n",
    "- Type of Recommender system\n",
    "   \n",
    "   Content Bases                  - Collaborative filtering                 -Hybrid\n",
    "   \n",
    "       [tags]                          [uses data of simmiler usee        Content + Collabarative\n",
    "- Type of Recommender system"
   ]
  },
  {
   "cell_type": "markdown",
   "id": "b761c599-c9d2-4fce-927d-00acdfc0e5a4",
   "metadata": {
    "tags": []
   },
   "source": [
    "We'll make Content base recommender syster"
   ]
  },
  {
   "cell_type": "markdown",
   "id": "e105f0b6-2dc6-4172-b8c2-b5d209f45c52",
   "metadata": {},
   "source": [
    "## Project FLow\n",
    " -Data Collection--->Prepocessing --->model --->website ---> Deploy"
   ]
  },
  {
   "cell_type": "code",
   "execution_count": 271,
   "id": "73af1aca-434f-41e4-946e-7d7ebc743182",
   "metadata": {
    "tags": []
   },
   "outputs": [],
   "source": [
    "import numpy as np\n",
    "import pandas as pd\n",
    "from ydata_profiling import ProfileReport\n",
    "from sklearn.feature_extraction.text import CountVectorizer\n",
    "from nltk.stem.porter import PorterStemmer\n",
    "ps = PorterStemmer()\n",
    "from sklearn.metrics.pairwise import cosine_similarity\n",
    "import pickle\n",
    "import warnings\n",
    "warnings.filterwarnings(\"ignore\")"
   ]
  },
  {
   "cell_type": "code",
   "execution_count": 119,
   "id": "e4ced16b-77bd-419a-be45-9b005900db73",
   "metadata": {
    "tags": []
   },
   "outputs": [],
   "source": [
    "movies = pd.read_csv(\"tmdb_5000_movies.csv\")\n",
    "credits = pd.read_csv(\"tmdb_5000_credits.csv\")\n"
   ]
  },
  {
   "cell_type": "code",
   "execution_count": 120,
   "id": "66c6db09-13e7-4f62-af85-def54e6c31c4",
   "metadata": {
    "tags": []
   },
   "outputs": [],
   "source": [
    "df = movies.merge(credits,on='title') #df1.merge(df2, on='column name')"
   ]
  },
  {
   "cell_type": "code",
   "execution_count": 29,
   "id": "7d142846-d4fe-47e6-80f3-d21ec171e6f8",
   "metadata": {
    "tags": []
   },
   "outputs": [
    {
     "data": {
      "application/vnd.jupyter.widget-view+json": {
       "model_id": "89d988ddd39b4845a25cbabedc7dc54a",
       "version_major": 2,
       "version_minor": 0
      },
      "text/plain": [
       "Summarize dataset:   0%|          | 0/5 [00:00<?, ?it/s]"
      ]
     },
     "metadata": {},
     "output_type": "display_data"
    },
    {
     "data": {
      "application/vnd.jupyter.widget-view+json": {
       "model_id": "9fdbe15f436e49348a686e6287ec9255",
       "version_major": 2,
       "version_minor": 0
      },
      "text/plain": [
       "Generate report structure:   0%|          | 0/1 [00:00<?, ?it/s]"
      ]
     },
     "metadata": {},
     "output_type": "display_data"
    },
    {
     "data": {
      "application/vnd.jupyter.widget-view+json": {
       "model_id": "4ad01d9d3143407ba145bbca1fad1b68",
       "version_major": 2,
       "version_minor": 0
      },
      "text/plain": [
       "Render HTML:   0%|          | 0/1 [00:00<?, ?it/s]"
      ]
     },
     "metadata": {},
     "output_type": "display_data"
    },
    {
     "data": {
      "application/vnd.jupyter.widget-view+json": {
       "model_id": "cd91cc612a2b44d29ef9f2eb267debe4",
       "version_major": 2,
       "version_minor": 0
      },
      "text/plain": [
       "Export report to file:   0%|          | 0/1 [00:00<?, ?it/s]"
      ]
     },
     "metadata": {},
     "output_type": "display_data"
    }
   ],
   "source": [
    "profile = ProfileReport(df)\n",
    "profile.to_file(\"movie_report.html\")"
   ]
  },
  {
   "cell_type": "markdown",
   "id": "1b490352-a273-404d-9a31-9f9fa8ab815a",
   "metadata": {},
   "source": [
    "## Data Cleaning"
   ]
  },
  {
   "cell_type": "code",
   "execution_count": 122,
   "id": "69004bf9-758c-46d1-abf4-4ebc61d669c4",
   "metadata": {
    "tags": []
   },
   "outputs": [
    {
     "name": "stdout",
     "output_type": "stream",
     "text": [
      "<class 'pandas.core.frame.DataFrame'>\n",
      "Int64Index: 4809 entries, 0 to 4808\n",
      "Data columns (total 23 columns):\n",
      " #   Column                Non-Null Count  Dtype  \n",
      "---  ------                --------------  -----  \n",
      " 0   budget                4809 non-null   int64  \n",
      " 1   genres                4809 non-null   object \n",
      " 2   homepage              1713 non-null   object \n",
      " 3   id                    4809 non-null   int64  \n",
      " 4   keywords              4809 non-null   object \n",
      " 5   original_language     4809 non-null   object \n",
      " 6   original_title        4809 non-null   object \n",
      " 7   overview              4806 non-null   object \n",
      " 8   popularity            4809 non-null   float64\n",
      " 9   production_companies  4809 non-null   object \n",
      " 10  production_countries  4809 non-null   object \n",
      " 11  release_date          4808 non-null   object \n",
      " 12  revenue               4809 non-null   int64  \n",
      " 13  runtime               4807 non-null   float64\n",
      " 14  spoken_languages      4809 non-null   object \n",
      " 15  status                4809 non-null   object \n",
      " 16  tagline               3965 non-null   object \n",
      " 17  title                 4809 non-null   object \n",
      " 18  vote_average          4809 non-null   float64\n",
      " 19  vote_count            4809 non-null   int64  \n",
      " 20  movie_id              4809 non-null   int64  \n",
      " 21  cast                  4809 non-null   object \n",
      " 22  crew                  4809 non-null   object \n",
      "dtypes: float64(3), int64(5), object(15)\n",
      "memory usage: 901.7+ KB\n"
     ]
    }
   ],
   "source": [
    "df.info()"
   ]
  },
  {
   "cell_type": "code",
   "execution_count": 123,
   "id": "b3affdad-d74e-4dee-8177-c2695add4ade",
   "metadata": {
    "tags": []
   },
   "outputs": [],
   "source": [
    "df =df[['movie_id' , 'title' , 'overview' , 'genres', 'keywords' , 'cast' , 'crew']]"
   ]
  },
  {
   "cell_type": "code",
   "execution_count": 125,
   "id": "39f7492b-5536-42ca-b979-7d8e03adfb0f",
   "metadata": {
    "tags": []
   },
   "outputs": [],
   "source": [
    "df.dropna(inplace = True)"
   ]
  },
  {
   "cell_type": "markdown",
   "id": "8a4027e8-da0c-4d50-b4ab-1afec3c9cdb6",
   "metadata": {},
   "source": [
    "## Data Featuring"
   ]
  },
  {
   "cell_type": "code",
   "execution_count": 127,
   "id": "aa890530-68cf-48e5-8956-9965cbd999dd",
   "metadata": {
    "tags": []
   },
   "outputs": [],
   "source": []
  },
  {
   "cell_type": "code",
   "execution_count": 128,
   "id": "d052e5ec-6d35-4497-bb1f-58fd318b8cbe",
   "metadata": {
    "tags": []
   },
   "outputs": [],
   "source": [
    "df['genres'] = df['genres'].apply(convert)"
   ]
  },
  {
   "cell_type": "code",
   "execution_count": 130,
   "id": "7687fd9c-cd3f-41c0-941b-e7f4334e7bea",
   "metadata": {
    "tags": []
   },
   "outputs": [],
   "source": [
    "df['keywords'] = df['keywords'].apply(convert)"
   ]
  },
  {
   "cell_type": "code",
   "execution_count": 134,
   "id": "a96b7589-b95f-4a03-83ac-e38ddb21bd93",
   "metadata": {
    "tags": []
   },
   "outputs": [],
   "source": [
    "def convert3(obj):\n",
    "    L = []\n",
    "    counter = 0\n",
    "    for i in ast.literal_eval(obj):\n",
    "        if counter !=3:\n",
    "            L.append(i['name'])\n",
    "            counter+=1\n",
    "        else:\n",
    "            break\n",
    "    return L"
   ]
  },
  {
   "cell_type": "code",
   "execution_count": 135,
   "id": "c1b9702a-25b9-4083-b92f-6fc165e03515",
   "metadata": {
    "tags": []
   },
   "outputs": [],
   "source": [
    "df['cast'] = df['cast'].apply(convert3)"
   ]
  },
  {
   "cell_type": "code",
   "execution_count": 140,
   "id": "891567b5-34ff-43d4-b79f-2187fef1124a",
   "metadata": {
    "tags": []
   },
   "outputs": [],
   "source": [
    "def convert4(obj):\n",
    "    L = []\n",
    "\n",
    "    for i in ast.literal_eval(obj):\n",
    "        if i['job'] == 'Director':\n",
    "            L.append(i['name'])\n",
    "            break\n",
    "    return L"
   ]
  },
  {
   "cell_type": "code",
   "execution_count": 142,
   "id": "2008a533-0c03-40ae-9e45-7c997f1acb31",
   "metadata": {
    "tags": []
   },
   "outputs": [],
   "source": [
    "df['crew']= df['crew'].apply(convert4)"
   ]
  },
  {
   "cell_type": "code",
   "execution_count": 144,
   "id": "51e3134e-3b61-433c-9adc-f8a7719d7837",
   "metadata": {
    "tags": []
   },
   "outputs": [],
   "source": [
    "df['overview'] = df['overview'].apply(lambda x:x.split())"
   ]
  },
  {
   "cell_type": "code",
   "execution_count": 147,
   "id": "be1f9015-00fc-4785-8caf-f94bde86a606",
   "metadata": {
    "tags": []
   },
   "outputs": [],
   "source": [
    "df['genres']= df['genres'].apply(lambda x:[i.replace(\" \" ,\"\") for i in x])\n",
    "df['keywords']= df['keywords'].apply(lambda x:[i.replace(\" \" ,\"\") for i in x])\n",
    "df['cast']= df['cast'].apply(lambda x:[i.replace(\" \" ,\"\") for i in x])\n",
    "df['crew']= df['crew'].apply(lambda x:[i.replace(\" \" ,\"\") for i in x])"
   ]
  },
  {
   "cell_type": "code",
   "execution_count": 149,
   "id": "7c34f13e-3f69-419b-b471-e3ac521de98f",
   "metadata": {
    "tags": []
   },
   "outputs": [],
   "source": [
    "df['tags'] = df['overview'] + df['genres'] + df['keywords'] + df['cast'] + df['crew']"
   ]
  },
  {
   "cell_type": "code",
   "execution_count": 151,
   "id": "17c18039-7184-4c02-bb64-a36ad703ed87",
   "metadata": {
    "tags": []
   },
   "outputs": [],
   "source": [
    "df = df[['movie_id' , 'title', 'tags']]"
   ]
  },
  {
   "cell_type": "code",
   "execution_count": 155,
   "id": "09144ec5-2714-41b0-a0e6-584f6a827130",
   "metadata": {
    "tags": []
   },
   "outputs": [],
   "source": [
    "df['tags']= df['tags'].apply(lambda x:\" \".join(x))"
   ]
  },
  {
   "cell_type": "code",
   "execution_count": 158,
   "id": "bd503d77-b928-4cce-8566-e5a97ae46396",
   "metadata": {
    "tags": []
   },
   "outputs": [],
   "source": [
    "df['tags']= df['tags'].apply(lambda x:x.lower())\n"
   ]
  },
  {
   "cell_type": "markdown",
   "id": "5671874a-15b2-4044-829b-9c548b6e71c2",
   "metadata": {},
   "source": [
    "## Model building"
   ]
  },
  {
   "cell_type": "code",
   "execution_count": 227,
   "id": "57e055ba-55de-4635-aaec-453200c19c4a",
   "metadata": {
    "tags": []
   },
   "outputs": [],
   "source": [
    "\n",
    "cv = CountVectorizer(max_features = 5000, stop_words='english')"
   ]
  },
  {
   "cell_type": "code",
   "execution_count": 228,
   "id": "a9768c1e-c04d-4bb1-b17c-dc73a347daa0",
   "metadata": {
    "tags": []
   },
   "outputs": [],
   "source": [
    "vectors = cv.fit_transform(df['tags']).toarray()"
   ]
  },
  {
   "cell_type": "code",
   "execution_count": 230,
   "id": "28449909-8a15-441a-bce0-2be089f949fa",
   "metadata": {
    "tags": []
   },
   "outputs": [
    {
     "data": {
      "text/plain": [
       "5000"
      ]
     },
     "execution_count": 230,
     "metadata": {},
     "output_type": "execute_result"
    }
   ],
   "source": [
    "len(cv.get_feature_names_out())"
   ]
  },
  {
   "cell_type": "code",
   "execution_count": 232,
   "id": "8de745ac-e779-4473-acca-0c475e56d420",
   "metadata": {
    "tags": []
   },
   "outputs": [],
   "source": [
    "def stem(text):\n",
    "    y = []\n",
    "    for i in text.split():\n",
    "        y.append(ps.stem(i))\n",
    "    return \" \" .join(y)\n",
    "    "
   ]
  },
  {
   "cell_type": "code",
   "execution_count": 233,
   "id": "5204ca02-8986-490a-a15f-0f788b0f3399",
   "metadata": {
    "tags": []
   },
   "outputs": [],
   "source": [
    "df['tags']=df['tags'].apply(stem)"
   ]
  },
  {
   "cell_type": "code",
   "execution_count": 234,
   "id": "002db366-5a04-4821-9525-c9939d6256ab",
   "metadata": {
    "tags": []
   },
   "outputs": [
    {
     "data": {
      "text/plain": [
       "(4806, 3)"
      ]
     },
     "execution_count": 234,
     "metadata": {},
     "output_type": "execute_result"
    }
   ],
   "source": [
    "df.shape"
   ]
  },
  {
   "cell_type": "code",
   "execution_count": 249,
   "id": "bd458c22-db54-465e-977b-b368d391be24",
   "metadata": {
    "tags": []
   },
   "outputs": [],
   "source": [
    "simmilarity = cosine_similarity(vectors)"
   ]
  },
  {
   "cell_type": "code",
   "execution_count": 259,
   "id": "3520a817-5ae7-41bc-bdf8-6810f1851917",
   "metadata": {
    "tags": []
   },
   "outputs": [],
   "source": [
    "def recommend(movie):\n",
    "    movie_index = df[df['title'] == movie].index[0]\n",
    "    distances = simmilarity[movie_index]\n",
    "    movie_list = sorted(list(enumerate(distances)),reverse = True, key= lambda x:x[1])[1:6]\n",
    "    \n",
    "    for i in movie_list:\n",
    "        print(df.iloc[i[0]].title)\n"
   ]
  },
  {
   "cell_type": "code",
   "execution_count": 266,
   "id": "5c08fb47-2fad-45f0-bc26-76a99c4d75ea",
   "metadata": {
    "tags": []
   },
   "outputs": [],
   "source": [
    "pickle.dump(df.to_dict(),open('movie.pkl','wb'))"
   ]
  },
  {
   "cell_type": "code",
   "execution_count": 270,
   "id": "4bf502ac-6ff8-4b91-a134-d1b4ef155993",
   "metadata": {
    "tags": []
   },
   "outputs": [],
   "source": [
    "pickle.dump(simmilarity,open('simmilarity.pkl','wb'))"
   ]
  }
 ],
 "metadata": {
  "kernelspec": {
   "display_name": "Python 3 (ipykernel)",
   "language": "python",
   "name": "python3"
  },
  "language_info": {
   "codemirror_mode": {
    "name": "ipython",
    "version": 3
   },
   "file_extension": ".py",
   "mimetype": "text/x-python",
   "name": "python",
   "nbconvert_exporter": "python",
   "pygments_lexer": "ipython3",
   "version": "3.11.4"
  }
 },
 "nbformat": 4,
 "nbformat_minor": 5
}
